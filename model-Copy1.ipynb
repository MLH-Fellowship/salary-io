{
 "cells": [
  {
   "cell_type": "code",
   "execution_count": 2,
   "metadata": {},
   "outputs": [],
   "source": [
    "import pandas as pd\n",
    "import numpy as np\n",
    "import seaborn as sns\n",
    "import json"
   ]
  },
  {
   "cell_type": "code",
   "execution_count": 270,
   "metadata": {},
   "outputs": [
    {
     "data": {
      "text/html": [
       "<div>\n",
       "<style scoped>\n",
       "    .dataframe tbody tr th:only-of-type {\n",
       "        vertical-align: middle;\n",
       "    }\n",
       "\n",
       "    .dataframe tbody tr th {\n",
       "        vertical-align: top;\n",
       "    }\n",
       "\n",
       "    .dataframe thead th {\n",
       "        text-align: right;\n",
       "    }\n",
       "</style>\n",
       "<table border=\"1\" class=\"dataframe\">\n",
       "  <thead>\n",
       "    <tr style=\"text-align: right;\">\n",
       "      <th></th>\n",
       "      <th>title</th>\n",
       "      <th>totalyearlycompensation</th>\n",
       "      <th>location</th>\n",
       "      <th>yearsofexperience</th>\n",
       "      <th>yearsatcompany</th>\n",
       "      <th>gender</th>\n",
       "    </tr>\n",
       "  </thead>\n",
       "  <tbody>\n",
       "    <tr>\n",
       "      <th>0</th>\n",
       "      <td>Product_Manager</td>\n",
       "      <td>127</td>\n",
       "      <td>RedwoodCity,CA</td>\n",
       "      <td>1.5</td>\n",
       "      <td>1.5</td>\n",
       "      <td></td>\n",
       "    </tr>\n",
       "    <tr>\n",
       "      <th>1</th>\n",
       "      <td>Software_Engineer</td>\n",
       "      <td>100</td>\n",
       "      <td>SanFrancisco,CA</td>\n",
       "      <td>5</td>\n",
       "      <td>3</td>\n",
       "      <td></td>\n",
       "    </tr>\n",
       "    <tr>\n",
       "      <th>2</th>\n",
       "      <td>Product_Manager</td>\n",
       "      <td>310</td>\n",
       "      <td>Seattle,WA</td>\n",
       "      <td>8</td>\n",
       "      <td>0</td>\n",
       "      <td></td>\n",
       "    </tr>\n",
       "    <tr>\n",
       "      <th>3</th>\n",
       "      <td>Software_Engineering_Manager</td>\n",
       "      <td>200</td>\n",
       "      <td>Redmond,WA</td>\n",
       "      <td>9</td>\n",
       "      <td>9</td>\n",
       "      <td></td>\n",
       "    </tr>\n",
       "    <tr>\n",
       "      <th>4</th>\n",
       "      <td>Software_Engineer</td>\n",
       "      <td>173</td>\n",
       "      <td>Vancouver,BC,Canada</td>\n",
       "      <td>11</td>\n",
       "      <td>1</td>\n",
       "      <td></td>\n",
       "    </tr>\n",
       "    <tr>\n",
       "      <th>...</th>\n",
       "      <td>...</td>\n",
       "      <td>...</td>\n",
       "      <td>...</td>\n",
       "      <td>...</td>\n",
       "      <td>...</td>\n",
       "      <td>...</td>\n",
       "    </tr>\n",
       "    <tr>\n",
       "      <th>31773</th>\n",
       "      <td>Software_Engineer</td>\n",
       "      <td>195</td>\n",
       "      <td>SantaMonica,CA</td>\n",
       "      <td>3</td>\n",
       "      <td>1</td>\n",
       "      <td></td>\n",
       "    </tr>\n",
       "    <tr>\n",
       "      <th>31774</th>\n",
       "      <td>Hardware_Engineer</td>\n",
       "      <td>151</td>\n",
       "      <td>SanDiego,CA</td>\n",
       "      <td>3</td>\n",
       "      <td>3</td>\n",
       "      <td></td>\n",
       "    </tr>\n",
       "    <tr>\n",
       "      <th>31775</th>\n",
       "      <td>Data_Scientist</td>\n",
       "      <td>161</td>\n",
       "      <td>NewYork,NY</td>\n",
       "      <td>4</td>\n",
       "      <td>2</td>\n",
       "      <td>Male</td>\n",
       "    </tr>\n",
       "    <tr>\n",
       "      <th>31776</th>\n",
       "      <td>Product_Designer</td>\n",
       "      <td>397</td>\n",
       "      <td>SanFrancisco,CA</td>\n",
       "      <td>7</td>\n",
       "      <td>7</td>\n",
       "      <td>Female</td>\n",
       "    </tr>\n",
       "    <tr>\n",
       "      <th>31777</th>\n",
       "      <td>Software_Engineer</td>\n",
       "      <td>150</td>\n",
       "      <td>Bangalore,KA,India</td>\n",
       "      <td>12</td>\n",
       "      <td>12</td>\n",
       "      <td></td>\n",
       "    </tr>\n",
       "  </tbody>\n",
       "</table>\n",
       "<p>31778 rows × 6 columns</p>\n",
       "</div>"
      ],
      "text/plain": [
       "                              title totalyearlycompensation  \\\n",
       "0                   Product_Manager                     127   \n",
       "1                 Software_Engineer                     100   \n",
       "2                   Product_Manager                     310   \n",
       "3      Software_Engineering_Manager                     200   \n",
       "4                 Software_Engineer                     173   \n",
       "...                             ...                     ...   \n",
       "31773             Software_Engineer                     195   \n",
       "31774             Hardware_Engineer                     151   \n",
       "31775                Data_Scientist                     161   \n",
       "31776              Product_Designer                     397   \n",
       "31777             Software_Engineer                     150   \n",
       "\n",
       "                  location yearsofexperience yearsatcompany  gender  \n",
       "0           RedwoodCity,CA               1.5            1.5          \n",
       "1          SanFrancisco,CA                 5              3          \n",
       "2               Seattle,WA                 8              0          \n",
       "3               Redmond,WA                 9              9          \n",
       "4      Vancouver,BC,Canada                11              1          \n",
       "...                    ...               ...            ...     ...  \n",
       "31773       SantaMonica,CA                 3              1          \n",
       "31774          SanDiego,CA                 3              3          \n",
       "31775           NewYork,NY                 4              2    Male  \n",
       "31776      SanFrancisco,CA                 7              7  Female  \n",
       "31777   Bangalore,KA,India                12             12          \n",
       "\n",
       "[31778 rows x 6 columns]"
      ]
     },
     "execution_count": 270,
     "metadata": {},
     "output_type": "execute_result"
    }
   ],
   "source": [
    "with open('salaryData.json') as f:\n",
    "    data = json.load(f)\n",
    "\n",
    "dataset = pd.DataFrame(data)\n",
    "\n",
    "# columns not used in model\n",
    "columns = ['timestamp', 'otherdetails', 'dmaid', 'rowNumber', \n",
    "            'company', 'cityid',\n",
    "           'level', 'tag', 'bonus', 'basesalary', 'stockgrantvalue'] # TODO: consider adding these to model\n",
    "dataset.drop(columns, inplace=True, axis=1)\n",
    "dataset = dataset.drop_duplicates()\n",
    "dataset.reset_index(drop=True, inplace=True)\n",
    "dataset['location'] = dataset['location'].str.replace(\" \", \"\")\n",
    "# print(dataset['title'][0].replace(\" \", \"_\"))\n",
    "dataset = dataset.replace(' ', '_', regex=True)\n",
    "dataset"
   ]
  },
  {
   "cell_type": "code",
   "execution_count": 271,
   "metadata": {},
   "outputs": [],
   "source": [
    "dataset[\"totalyearlycompensation\"] = pd.to_numeric(dataset[\"totalyearlycompensation\"])\n",
    "dataset[\"yearsofexperience\"] = pd.to_numeric(dataset[\"yearsofexperience\"])\n",
    "dataset[\"yearsatcompany\"] = pd.to_numeric(dataset[\"yearsatcompany\"])\n",
    "# filter out rows with no gender information\n",
    "dataset = dataset[dataset.gender != \"\"]\n",
    "# get rid of outliers\n",
    "dataset = dataset[dataset[\"totalyearlycompensation\"] < dataset[\"totalyearlycompensation\"].quantile(.96)]\n",
    "# filter out cities with less than 100 datapoints\n",
    "dataset_top_cities = dataset.groupby('location').filter(lambda x: len(x) >= 50)\n",
    "\n",
    "# from sklearn import preprocessing\n",
    "# # load the Iris datase\n",
    "# dataset_top_cities[\"yearsofexperience\"] = preprocessing.scale(dataset_top_cities[\"yearsofexperience\"])\n",
    "# dataset_top_cities[\"yearsatcompany\"] = preprocessing.scale(dataset_top_cities[\"yearsatcompany\"])\n",
    "# dataset_top_cities[\"years\"] = dataset_top_cities[\"yearsofexperience\"] * dataset_top_cities[\"yearsatcompany\"]\n",
    "# print(dataset_top_cities) "
   ]
  },
  {
   "cell_type": "code",
   "execution_count": 272,
   "metadata": {},
   "outputs": [],
   "source": [
    "# categorical data\n",
    "# categorical_cols = ['title', 'location'] \n",
    "\n",
    "# one hot encoding\n",
    "# dataset_encoded = pd.get_dummies(dataset_top_cities, columns = categorical_cols, drop_first = True)\n",
    "# dataset_encoded"
   ]
  },
  {
   "cell_type": "code",
   "execution_count": 273,
   "metadata": {},
   "outputs": [
    {
     "name": "stdout",
     "output_type": "stream",
     "text": [
      "                   title  totalyearlycompensation            location  \\\n",
      "449    Software_Engineer                    172.0          Seattle,WA   \n",
      "450    Software_Engineer                    325.0     SanFrancisco,CA   \n",
      "452    Software_Engineer                    145.0          Redmond,WA   \n",
      "455    Software_Engineer                    150.0          Seattle,WA   \n",
      "456    Software_Engineer                    230.0          Redmond,WA   \n",
      "...                  ...                      ...                 ...   \n",
      "31767  Software_Engineer                    138.0          Boulder,CO   \n",
      "31769  Software_Engineer                    242.0          NewYork,NY   \n",
      "31772  Software_Engineer                    109.0  Hyderabad,TS,India   \n",
      "31775     Data_Scientist                    161.0          NewYork,NY   \n",
      "31776   Product_Designer                    397.0     SanFrancisco,CA   \n",
      "\n",
      "       yearsofexperience  yearsatcompany  gender  \n",
      "449                 12.0             2.0    Male  \n",
      "450                  7.0             2.0    Male  \n",
      "452                  7.0             2.8    Male  \n",
      "455                  4.0             0.0    Male  \n",
      "456                 17.0             9.0    Male  \n",
      "...                  ...             ...     ...  \n",
      "31767                0.0             0.0    Male  \n",
      "31769                7.0             2.0    Male  \n",
      "31772               12.0             2.0    Male  \n",
      "31775                4.0             2.0    Male  \n",
      "31776                7.0             7.0  Female  \n",
      "\n",
      "[18352 rows x 6 columns]\n"
     ]
    }
   ],
   "source": [
    "# multivariate linear regression\n",
    "from sklearn.linear_model import LinearRegression\n",
    "from sklearn.model_selection import train_test_split\n",
    "from sklearn.metrics import mean_absolute_error\n",
    "from sklearn.metrics import accuracy_score\n",
    "from sklearn.preprocessing import OneHotEncoder\n",
    "\n",
    "# independent and dependent variables\n",
    "features = ['yearsofexperience', 'location', 'title','yearsatcompany', 'gender']\n",
    "# features = ['years', 'location', 'title','gender','yearsofexperience']\n",
    "target = 'totalyearlycompensation'\n",
    "\n",
    "X = dataset_top_cities[features]\n",
    "Y = dataset_top_cities[target]\n",
    "print(dataset_top_cities)"
   ]
  },
  {
   "cell_type": "code",
   "execution_count": 274,
   "metadata": {},
   "outputs": [],
   "source": [
    "# convert categorical variables to dummy variables\n",
    "X = pd.get_dummies(data=X, drop_first=True)\n",
    "# print(X)\n",
    "\n",
    "# # 80/20 split- 20% training data\n",
    "X_train, X_test, Y_train, Y_test = train_test_split( X, Y, test_size=0.2, random_state=0)"
   ]
  },
  {
   "cell_type": "code",
   "execution_count": 275,
   "metadata": {},
   "outputs": [],
   "source": [
    "# define model I am using\n",
    "model = LinearRegression(normalize = True)"
   ]
  },
  {
   "cell_type": "code",
   "execution_count": 276,
   "metadata": {},
   "outputs": [
    {
     "data": {
      "text/plain": [
       "LinearRegression(normalize=True)"
      ]
     },
     "execution_count": 276,
     "metadata": {},
     "output_type": "execute_result"
    }
   ],
   "source": [
    "# training process\n",
    "model.fit(X_train,Y_train)"
   ]
  },
  {
   "cell_type": "code",
   "execution_count": 277,
   "metadata": {},
   "outputs": [
    {
     "data": {
      "text/plain": [
       "['salary_predict.joblib']"
      ]
     },
     "execution_count": 277,
     "metadata": {},
     "output_type": "execute_result"
    }
   ],
   "source": [
    "# import joblib\n",
    "from joblib import dump\n",
    "\n",
    "# dump the linear regression model\n",
    "dump(model, filename=\"salary_predict.joblib\")"
   ]
  },
  {
   "cell_type": "code",
   "execution_count": 278,
   "metadata": {},
   "outputs": [
    {
     "name": "stdout",
     "output_type": "stream",
     "text": [
      "['yearsofexperience', 'yearsatcompany', 'location_Arlington,VA', 'location_Atlanta,GA', 'location_Austin,TX', 'location_Bangalore,KA,India', 'location_Bellevue,WA', 'location_Bengaluru,KA,India', 'location_Berlin,BE,Germany', 'location_Boston,MA', 'location_Boulder,CO', 'location_Cambridge,MA', 'location_Chicago,IL', 'location_Cupertino,CA', 'location_Dallas,TX', 'location_Denver,CO', 'location_Dublin,DN,Ireland', 'location_Herndon,VA', 'location_Hillsboro,OR', 'location_Houston,TX', 'location_Hyderabad,TS,India', 'location_Irvine,CA', 'location_JerseyCity,NJ', 'location_Kirkland,WA', 'location_London,EN,UnitedKingdom', 'location_LosAngeles,CA', 'location_LosGatos,CA', 'location_MenloPark,CA', 'location_Minneapolis,MN', 'location_Moscow,MC,Russia', 'location_MountainView,CA', 'location_NewYork,NY', 'location_PaloAlto,CA', 'location_Philadelphia,PA', 'location_Phoenix,AZ', 'location_Pittsburgh,PA', 'location_Plano,TX', 'location_Pleasanton,CA', 'location_Portland,OR', 'location_Raleigh,NC', 'location_Redmond,WA', 'location_RedwoodCity,CA', 'location_SanBruno,CA', 'location_SanDiego,CA', 'location_SanFrancisco,CA', 'location_SanJose,CA', 'location_SantaClara,CA', 'location_Seattle,WA', 'location_Singapore,SG,Singapore', 'location_Sunnyvale,CA', 'location_Sydney,NS,Australia', 'location_TelAviv,TA,Israel', 'location_Toronto,ON,Canada', 'location_Vancouver,BC,Canada', 'location_Washington,DC', 'location_Zurich,ZH,Switzerland', 'title_Data_Scientist', 'title_Hardware_Engineer', 'title_Management_Consultant', 'title_Marketing', 'title_Product_Designer', 'title_Product_Manager', 'title_Software_Engineer', 'title_Software_Engineering_Manager', 'title_Solution_Architect', 'title_Technical_Program_Manager', 'gender_Male', 'gender_Other']\n",
      "The model performance of training set\n",
      "RMSE is 65.9488740851636\n",
      "R2 score is 0.4872654777047901\n",
      "--------------------------------------\n",
      "The model performance of testing set\n",
      "RMSE is 65.49382158594467\n",
      "R2 score is 0.48461990592523285\n"
     ]
    }
   ],
   "source": [
    "from sklearn.metrics import mean_squared_error,r2_score\n",
    "# get model performance\n",
    "print(list(X_train.columns))\n",
    "def scores_(model,X,Y):\n",
    "    y_predict = model.predict(X)\n",
    "    rmse = (np.sqrt(mean_squared_error(Y, y_predict)))\n",
    "    r2 = r2_score(Y, y_predict)\n",
    "    print('RMSE is {}'.format(rmse))\n",
    "    print('R2 score is {}'.format(r2))\n",
    "print(\"The model performance of training set\")\n",
    "scores_(model,X_train,Y_train)\n",
    "print(\"--------------------------------------\")\n",
    "print(\"The model performance of testing set\")\n",
    "scores_(model,X_test,Y_test)"
   ]
  },
  {
   "cell_type": "code",
   "execution_count": 254,
   "metadata": {},
   "outputs": [
    {
     "name": "stderr",
     "output_type": "stream",
     "text": [
      "/Users/shiyuezhang/miniconda3/lib/python3.8/site-packages/seaborn/_decorators.py:36: FutureWarning: Pass the following variables as keyword args: x, y. From version 0.12, the only valid positional argument will be `data`, and passing other arguments without an explicit keyword will result in an error or misinterpretation.\n",
      "  warnings.warn(\n"
     ]
    },
    {
     "data": {
      "text/plain": [
       "<AxesSubplot:xlabel='totalyearlycompensation'>"
      ]
     },
     "execution_count": 254,
     "metadata": {},
     "output_type": "execute_result"
    },
    {
     "data": {
      "image/png": "[encoded data removed]",
      "text/plain": [
       "<Figure size 432x288 with 1 Axes>"
      ]
     },
     "metadata": {
      "needs_background": "light"
     },
     "output_type": "display_data"
    }
   ],
   "source": [
    "# compare the prediction with actual values in test dataset\n",
    "predictions = model.predict(X_test)\n",
    "sns.regplot(Y_test,predictions)"
   ]
  },
  {
   "cell_type": "code",
   "execution_count": 155,
   "metadata": {},
   "outputs": [],
   "source": [
    "import tensorflow as tf\n",
    "\n",
    "from tensorflow import keras\n",
    "from tensorflow.keras import layers\n",
    "from tensorflow.keras.layers.experimental import preprocessing"
   ]
  },
  {
   "cell_type": "code",
   "execution_count": 210,
   "metadata": {},
   "outputs": [],
   "source": [
    "with open('salaryData.json') as f:\n",
    "    data = json.load(f)\n",
    "\n",
    "raw_dataset = pd.DataFrame(data)\n",
    "# columns not used in model\n",
    "columns = ['timestamp', 'otherdetails', 'dmaid', 'rowNumber', \n",
    "            'company', 'cityid',\n",
    "           'level', 'tag', 'bonus', 'basesalary', 'stockgrantvalue'] # TODO: consider adding these to model\n",
    "raw_dataset.drop(columns, inplace=True, axis=1)\n",
    "raw_dataset = raw_dataset.drop_duplicates()\n",
    "raw_dataset.reset_index(drop=True, inplace=True)\n",
    "raw_dataset[\"totalyearlycompensation\"] = pd.to_numeric(raw_dataset[\"totalyearlycompensation\"])\n",
    "raw_dataset[\"yearsofexperience\"] = pd.to_numeric(raw_dataset[\"yearsofexperience\"])\n",
    "raw_dataset[\"yearsatcompany\"] = pd.to_numeric(raw_dataset[\"yearsatcompany\"])\n",
    "raw_dataset = raw_dataset[raw_dataset[\"totalyearlycompensation\"] < raw_dataset[\"totalyearlycompensation\"].quantile(.96)]\n",
    "raw_dataset = raw_dataset.groupby('location').filter(lambda x: len(x) >= 50)\n",
    "# filter out rows with no gender information\n",
    "raw_dataset = raw_dataset[raw_dataset.gender != \"\"]"
   ]
  },
  {
   "cell_type": "code",
   "execution_count": 211,
   "metadata": {},
   "outputs": [
    {
     "data": {
      "text/html": [
       "<div>\n",
       "<style scoped>\n",
       "    .dataframe tbody tr th:only-of-type {\n",
       "        vertical-align: middle;\n",
       "    }\n",
       "\n",
       "    .dataframe tbody tr th {\n",
       "        vertical-align: top;\n",
       "    }\n",
       "\n",
       "    .dataframe thead th {\n",
       "        text-align: right;\n",
       "    }\n",
       "</style>\n",
       "<table border=\"1\" class=\"dataframe\">\n",
       "  <thead>\n",
       "    <tr style=\"text-align: right;\">\n",
       "      <th></th>\n",
       "      <th>title</th>\n",
       "      <th>totalyearlycompensation</th>\n",
       "      <th>location</th>\n",
       "      <th>yearsofexperience</th>\n",
       "      <th>yearsatcompany</th>\n",
       "      <th>gender</th>\n",
       "    </tr>\n",
       "  </thead>\n",
       "  <tbody>\n",
       "    <tr>\n",
       "      <th>31767</th>\n",
       "      <td>Software Engineer</td>\n",
       "      <td>138.0</td>\n",
       "      <td>Boulder, CO</td>\n",
       "      <td>0.0</td>\n",
       "      <td>0.0</td>\n",
       "      <td>Male</td>\n",
       "    </tr>\n",
       "    <tr>\n",
       "      <th>31769</th>\n",
       "      <td>Software Engineer</td>\n",
       "      <td>242.0</td>\n",
       "      <td>New York, NY</td>\n",
       "      <td>7.0</td>\n",
       "      <td>2.0</td>\n",
       "      <td>Male</td>\n",
       "    </tr>\n",
       "    <tr>\n",
       "      <th>31772</th>\n",
       "      <td>Software Engineer</td>\n",
       "      <td>109.0</td>\n",
       "      <td>Hyderabad, TS, India</td>\n",
       "      <td>12.0</td>\n",
       "      <td>2.0</td>\n",
       "      <td>Male</td>\n",
       "    </tr>\n",
       "    <tr>\n",
       "      <th>31775</th>\n",
       "      <td>Data Scientist</td>\n",
       "      <td>161.0</td>\n",
       "      <td>New York, NY</td>\n",
       "      <td>4.0</td>\n",
       "      <td>2.0</td>\n",
       "      <td>Male</td>\n",
       "    </tr>\n",
       "    <tr>\n",
       "      <th>31776</th>\n",
       "      <td>Product Designer</td>\n",
       "      <td>397.0</td>\n",
       "      <td>San Francisco, CA</td>\n",
       "      <td>7.0</td>\n",
       "      <td>7.0</td>\n",
       "      <td>Female</td>\n",
       "    </tr>\n",
       "  </tbody>\n",
       "</table>\n",
       "</div>"
      ],
      "text/plain": [
       "                   title  totalyearlycompensation              location  \\\n",
       "31767  Software Engineer                    138.0           Boulder, CO   \n",
       "31769  Software Engineer                    242.0          New York, NY   \n",
       "31772  Software Engineer                    109.0  Hyderabad, TS, India   \n",
       "31775     Data Scientist                    161.0          New York, NY   \n",
       "31776   Product Designer                    397.0     San Francisco, CA   \n",
       "\n",
       "       yearsofexperience  yearsatcompany  gender  \n",
       "31767                0.0             0.0    Male  \n",
       "31769                7.0             2.0    Male  \n",
       "31772               12.0             2.0    Male  \n",
       "31775                4.0             2.0    Male  \n",
       "31776                7.0             7.0  Female  "
      ]
     },
     "execution_count": 211,
     "metadata": {},
     "output_type": "execute_result"
    }
   ],
   "source": [
    "dataset = raw_dataset.copy()\n",
    "dataset.tail()"
   ]
  },
  {
   "cell_type": "code",
   "execution_count": 212,
   "metadata": {},
   "outputs": [
    {
     "data": {
      "text/html": [
       "<div>\n",
       "<style scoped>\n",
       "    .dataframe tbody tr th:only-of-type {\n",
       "        vertical-align: middle;\n",
       "    }\n",
       "\n",
       "    .dataframe tbody tr th {\n",
       "        vertical-align: top;\n",
       "    }\n",
       "\n",
       "    .dataframe thead th {\n",
       "        text-align: right;\n",
       "    }\n",
       "</style>\n",
       "<table border=\"1\" class=\"dataframe\">\n",
       "  <thead>\n",
       "    <tr style=\"text-align: right;\">\n",
       "      <th></th>\n",
       "      <th>totalyearlycompensation</th>\n",
       "      <th>yearsofexperience</th>\n",
       "      <th>yearsatcompany</th>\n",
       "      <th>title_Data Scientist</th>\n",
       "      <th>title_Hardware Engineer</th>\n",
       "      <th>title_Management Consultant</th>\n",
       "      <th>title_Marketing</th>\n",
       "      <th>title_Product Designer</th>\n",
       "      <th>title_Product Manager</th>\n",
       "      <th>title_Software Engineer</th>\n",
       "      <th>...</th>\n",
       "      <th>location_Singapore, SG, Singapore</th>\n",
       "      <th>location_Sunnyvale, CA</th>\n",
       "      <th>location_Sydney, NS, Australia</th>\n",
       "      <th>location_Tel Aviv, TA, Israel</th>\n",
       "      <th>location_Toronto, ON, Canada</th>\n",
       "      <th>location_Vancouver, BC, Canada</th>\n",
       "      <th>location_Washington, DC</th>\n",
       "      <th>location_Zurich, ZH, Switzerland</th>\n",
       "      <th>gender_Male</th>\n",
       "      <th>gender_Other</th>\n",
       "    </tr>\n",
       "  </thead>\n",
       "  <tbody>\n",
       "    <tr>\n",
       "      <th>31767</th>\n",
       "      <td>138.0</td>\n",
       "      <td>0.0</td>\n",
       "      <td>0.0</td>\n",
       "      <td>0</td>\n",
       "      <td>0</td>\n",
       "      <td>0</td>\n",
       "      <td>0</td>\n",
       "      <td>0</td>\n",
       "      <td>0</td>\n",
       "      <td>1</td>\n",
       "      <td>...</td>\n",
       "      <td>0</td>\n",
       "      <td>0</td>\n",
       "      <td>0</td>\n",
       "      <td>0</td>\n",
       "      <td>0</td>\n",
       "      <td>0</td>\n",
       "      <td>0</td>\n",
       "      <td>0</td>\n",
       "      <td>1</td>\n",
       "      <td>0</td>\n",
       "    </tr>\n",
       "    <tr>\n",
       "      <th>31769</th>\n",
       "      <td>242.0</td>\n",
       "      <td>7.0</td>\n",
       "      <td>2.0</td>\n",
       "      <td>0</td>\n",
       "      <td>0</td>\n",
       "      <td>0</td>\n",
       "      <td>0</td>\n",
       "      <td>0</td>\n",
       "      <td>0</td>\n",
       "      <td>1</td>\n",
       "      <td>...</td>\n",
       "      <td>0</td>\n",
       "      <td>0</td>\n",
       "      <td>0</td>\n",
       "      <td>0</td>\n",
       "      <td>0</td>\n",
       "      <td>0</td>\n",
       "      <td>0</td>\n",
       "      <td>0</td>\n",
       "      <td>1</td>\n",
       "      <td>0</td>\n",
       "    </tr>\n",
       "    <tr>\n",
       "      <th>31772</th>\n",
       "      <td>109.0</td>\n",
       "      <td>12.0</td>\n",
       "      <td>2.0</td>\n",
       "      <td>0</td>\n",
       "      <td>0</td>\n",
       "      <td>0</td>\n",
       "      <td>0</td>\n",
       "      <td>0</td>\n",
       "      <td>0</td>\n",
       "      <td>1</td>\n",
       "      <td>...</td>\n",
       "      <td>0</td>\n",
       "      <td>0</td>\n",
       "      <td>0</td>\n",
       "      <td>0</td>\n",
       "      <td>0</td>\n",
       "      <td>0</td>\n",
       "      <td>0</td>\n",
       "      <td>0</td>\n",
       "      <td>1</td>\n",
       "      <td>0</td>\n",
       "    </tr>\n",
       "    <tr>\n",
       "      <th>31775</th>\n",
       "      <td>161.0</td>\n",
       "      <td>4.0</td>\n",
       "      <td>2.0</td>\n",
       "      <td>1</td>\n",
       "      <td>0</td>\n",
       "      <td>0</td>\n",
       "      <td>0</td>\n",
       "      <td>0</td>\n",
       "      <td>0</td>\n",
       "      <td>0</td>\n",
       "      <td>...</td>\n",
       "      <td>0</td>\n",
       "      <td>0</td>\n",
       "      <td>0</td>\n",
       "      <td>0</td>\n",
       "      <td>0</td>\n",
       "      <td>0</td>\n",
       "      <td>0</td>\n",
       "      <td>0</td>\n",
       "      <td>1</td>\n",
       "      <td>0</td>\n",
       "    </tr>\n",
       "    <tr>\n",
       "      <th>31776</th>\n",
       "      <td>397.0</td>\n",
       "      <td>7.0</td>\n",
       "      <td>7.0</td>\n",
       "      <td>0</td>\n",
       "      <td>0</td>\n",
       "      <td>0</td>\n",
       "      <td>0</td>\n",
       "      <td>1</td>\n",
       "      <td>0</td>\n",
       "      <td>0</td>\n",
       "      <td>...</td>\n",
       "      <td>0</td>\n",
       "      <td>0</td>\n",
       "      <td>0</td>\n",
       "      <td>0</td>\n",
       "      <td>0</td>\n",
       "      <td>0</td>\n",
       "      <td>0</td>\n",
       "      <td>0</td>\n",
       "      <td>0</td>\n",
       "      <td>0</td>\n",
       "    </tr>\n",
       "  </tbody>\n",
       "</table>\n",
       "<p>5 rows × 77 columns</p>\n",
       "</div>"
      ],
      "text/plain": [
       "       totalyearlycompensation  yearsofexperience  yearsatcompany  \\\n",
       "31767                    138.0                0.0             0.0   \n",
       "31769                    242.0                7.0             2.0   \n",
       "31772                    109.0               12.0             2.0   \n",
       "31775                    161.0                4.0             2.0   \n",
       "31776                    397.0                7.0             7.0   \n",
       "\n",
       "       title_Data Scientist  title_Hardware Engineer  \\\n",
       "31767                     0                        0   \n",
       "31769                     0                        0   \n",
       "31772                     0                        0   \n",
       "31775                     1                        0   \n",
       "31776                     0                        0   \n",
       "\n",
       "       title_Management Consultant  title_Marketing  title_Product Designer  \\\n",
       "31767                            0                0                       0   \n",
       "31769                            0                0                       0   \n",
       "31772                            0                0                       0   \n",
       "31775                            0                0                       0   \n",
       "31776                            0                0                       1   \n",
       "\n",
       "       title_Product Manager  title_Software Engineer  ...  \\\n",
       "31767                      0                        1  ...   \n",
       "31769                      0                        1  ...   \n",
       "31772                      0                        1  ...   \n",
       "31775                      0                        0  ...   \n",
       "31776                      0                        0  ...   \n",
       "\n",
       "       location_Singapore, SG, Singapore  location_Sunnyvale, CA  \\\n",
       "31767                                  0                       0   \n",
       "31769                                  0                       0   \n",
       "31772                                  0                       0   \n",
       "31775                                  0                       0   \n",
       "31776                                  0                       0   \n",
       "\n",
       "       location_Sydney, NS, Australia  location_Tel Aviv, TA, Israel  \\\n",
       "31767                               0                              0   \n",
       "31769                               0                              0   \n",
       "31772                               0                              0   \n",
       "31775                               0                              0   \n",
       "31776                               0                              0   \n",
       "\n",
       "       location_Toronto, ON, Canada  location_Vancouver, BC, Canada  \\\n",
       "31767                             0                               0   \n",
       "31769                             0                               0   \n",
       "31772                             0                               0   \n",
       "31775                             0                               0   \n",
       "31776                             0                               0   \n",
       "\n",
       "       location_Washington, DC  location_Zurich, ZH, Switzerland  gender_Male  \\\n",
       "31767                        0                                 0            1   \n",
       "31769                        0                                 0            1   \n",
       "31772                        0                                 0            1   \n",
       "31775                        0                                 0            1   \n",
       "31776                        0                                 0            0   \n",
       "\n",
       "       gender_Other  \n",
       "31767             0  \n",
       "31769             0  \n",
       "31772             0  \n",
       "31775             0  \n",
       "31776             0  \n",
       "\n",
       "[5 rows x 77 columns]"
      ]
     },
     "execution_count": 212,
     "metadata": {},
     "output_type": "execute_result"
    }
   ],
   "source": [
    "# from sklearn.preprocessing import LabelEncoder\n",
    "\n",
    "# labelencoder = LabelEncoder()\n",
    "# # Assigning numerical values and storing in another column\n",
    "# dataset['title'] = labelencoder.fit_transform(dataset['title'])\n",
    "# dataset['location'] = labelencoder.fit_transform(dataset['location'])\n",
    "# dataset['gender'] = labelencoder.fit_transform(dataset['gender'])\n",
    "# dataset.tail()\n",
    "\n",
    "dataset = pd.get_dummies(data=dataset, drop_first=True)\n",
    "dataset.tail()"
   ]
  },
  {
   "cell_type": "code",
   "execution_count": 213,
   "metadata": {},
   "outputs": [],
   "source": [
    "train_dataset = dataset.sample(frac=0.8, random_state=0)\n",
    "test_dataset = dataset.drop(train_dataset.index)"
   ]
  },
  {
   "cell_type": "code",
   "execution_count": 214,
   "metadata": {},
   "outputs": [],
   "source": [
    "train_features = train_dataset.copy()\n",
    "test_features = test_dataset.copy()\n",
    "\n",
    "train_labels = train_features.pop('totalyearlycompensation')\n",
    "test_labels = test_features.pop('totalyearlycompensation')"
   ]
  },
  {
   "cell_type": "code",
   "execution_count": 215,
   "metadata": {},
   "outputs": [
    {
     "data": {
      "text/html": [
       "<div>\n",
       "<style scoped>\n",
       "    .dataframe tbody tr th:only-of-type {\n",
       "        vertical-align: middle;\n",
       "    }\n",
       "\n",
       "    .dataframe tbody tr th {\n",
       "        vertical-align: top;\n",
       "    }\n",
       "\n",
       "    .dataframe thead th {\n",
       "        text-align: right;\n",
       "    }\n",
       "</style>\n",
       "<table border=\"1\" class=\"dataframe\">\n",
       "  <thead>\n",
       "    <tr style=\"text-align: right;\">\n",
       "      <th></th>\n",
       "      <th>mean</th>\n",
       "      <th>std</th>\n",
       "    </tr>\n",
       "  </thead>\n",
       "  <tbody>\n",
       "    <tr>\n",
       "      <th>totalyearlycompensation</th>\n",
       "      <td>218.938557</td>\n",
       "      <td>94.212241</td>\n",
       "    </tr>\n",
       "    <tr>\n",
       "      <th>yearsofexperience</th>\n",
       "      <td>7.127429</td>\n",
       "      <td>5.754500</td>\n",
       "    </tr>\n",
       "    <tr>\n",
       "      <th>yearsatcompany</th>\n",
       "      <td>2.678302</td>\n",
       "      <td>3.188619</td>\n",
       "    </tr>\n",
       "    <tr>\n",
       "      <th>title_Data Scientist</th>\n",
       "      <td>0.042682</td>\n",
       "      <td>0.202146</td>\n",
       "    </tr>\n",
       "    <tr>\n",
       "      <th>title_Hardware Engineer</th>\n",
       "      <td>0.037022</td>\n",
       "      <td>0.188823</td>\n",
       "    </tr>\n",
       "    <tr>\n",
       "      <th>...</th>\n",
       "      <td>...</td>\n",
       "      <td>...</td>\n",
       "    </tr>\n",
       "    <tr>\n",
       "      <th>location_Vancouver, BC, Canada</th>\n",
       "      <td>0.010521</td>\n",
       "      <td>0.102033</td>\n",
       "    </tr>\n",
       "    <tr>\n",
       "      <th>location_Washington, DC</th>\n",
       "      <td>0.010787</td>\n",
       "      <td>0.103302</td>\n",
       "    </tr>\n",
       "    <tr>\n",
       "      <th>location_Zurich, ZH, Switzerland</th>\n",
       "      <td>0.004195</td>\n",
       "      <td>0.064635</td>\n",
       "    </tr>\n",
       "    <tr>\n",
       "      <th>gender_Male</th>\n",
       "      <td>0.829338</td>\n",
       "      <td>0.376226</td>\n",
       "    </tr>\n",
       "    <tr>\n",
       "      <th>gender_Other</th>\n",
       "      <td>0.011187</td>\n",
       "      <td>0.105177</td>\n",
       "    </tr>\n",
       "  </tbody>\n",
       "</table>\n",
       "<p>77 rows × 2 columns</p>\n",
       "</div>"
      ],
      "text/plain": [
       "                                        mean        std\n",
       "totalyearlycompensation           218.938557  94.212241\n",
       "yearsofexperience                   7.127429   5.754500\n",
       "yearsatcompany                      2.678302   3.188619\n",
       "title_Data Scientist                0.042682   0.202146\n",
       "title_Hardware Engineer             0.037022   0.188823\n",
       "...                                      ...        ...\n",
       "location_Vancouver, BC, Canada      0.010521   0.102033\n",
       "location_Washington, DC             0.010787   0.103302\n",
       "location_Zurich, ZH, Switzerland    0.004195   0.064635\n",
       "gender_Male                         0.829338   0.376226\n",
       "gender_Other                        0.011187   0.105177\n",
       "\n",
       "[77 rows x 2 columns]"
      ]
     },
     "execution_count": 215,
     "metadata": {},
     "output_type": "execute_result"
    }
   ],
   "source": [
    "train_dataset.describe().transpose()[['mean', 'std']]"
   ]
  },
  {
   "cell_type": "code",
   "execution_count": 216,
   "metadata": {},
   "outputs": [
    {
     "name": "stdout",
     "output_type": "stream",
     "text": [
      "[7.1274290e+00 2.6783020e+00 4.2682115e-02 3.7022240e-02 1.1985618e-02\n",
      " 7.2579570e-03 2.9631110e-02 7.9904117e-02 6.9363433e-01 5.4334797e-02\n",
      " 1.7512318e-02 1.8311359e-02 3.0629912e-03 7.6574776e-03 2.5902251e-02\n",
      " 1.5381542e-02 1.8178185e-02 7.1913702e-03 4.8608338e-03 2.1507524e-02\n",
      " 4.6610734e-03 4.9940073e-03 1.3783460e-02 3.4558531e-02 6.1259824e-03\n",
      " 5.2603544e-03 5.0605941e-03 2.3305367e-03 1.8644293e-03 3.0629912e-03\n",
      " 5.9262221e-03 4.3947264e-03 6.7918496e-03 4.8608338e-03 3.5290984e-03\n",
      " 4.4613131e-03 1.6380344e-02 1.1985618e-02 4.2615528e-03 2.7100813e-02\n",
      " 1.8644293e-03 4.0617925e-03 3.6622719e-03 4.4546545e-02 7.6841123e-02\n",
      " 1.9976029e-03 2.3971235e-02 3.3293380e-03 2.7966441e-03 3.6622719e-03\n",
      " 3.6622719e-03 4.3281396e-03 4.9940073e-03 3.8620322e-03 6.2591560e-02\n",
      " 8.2567586e-03 1.9310161e-03 2.0641896e-03 2.5968838e-03 1.8244773e-02\n",
      " 1.2431748e-01 4.0085230e-02 2.0641896e-03 2.2972433e-02 2.0641896e-03\n",
      " 1.5541351e-01 4.8608338e-03 4.7276601e-02 3.3959248e-03 3.8620322e-03\n",
      " 8.5231056e-03 1.0520709e-02 1.0787056e-02 4.1949661e-03 8.2933813e-01\n",
      " 1.1186576e-02]\n"
     ]
    }
   ],
   "source": [
    "normalizer = preprocessing.Normalization()\n",
    "normalizer.adapt(np.array(train_features))\n",
    "print(normalizer.mean.numpy())"
   ]
  },
  {
   "cell_type": "code",
   "execution_count": 217,
   "metadata": {},
   "outputs": [
    {
     "name": "stdout",
     "output_type": "stream",
     "text": [
      "First example: [[15. 14.  0.  0.  0.  0.  0.  0.  0.  1.  0.  0.  0.  0.  0.  0.  1.  0.\n",
      "   0.  0.  0.  0.  0.  0.  0.  0.  0.  0.  0.  0.  0.  0.  0.  0.  0.  0.\n",
      "   0.  0.  0.  0.  0.  0.  0.  0.  0.  0.  0.  0.  0.  0.  0.  0.  0.  0.\n",
      "   0.  0.  0.  0.  0.  0.  0.  0.  0.  0.  0.  0.  0.  0.  0.  0.  0.  0.\n",
      "   0.  0.  1.  0.]]\n",
      "\n",
      "Normalized: [[ 1.37  3.55 -0.21 -0.2  -0.11 -0.09 -0.17 -0.29 -1.5   4.17 -0.13 -0.14\n",
      "  -0.06 -0.09 -0.16 -0.12  7.35 -0.09 -0.07 -0.15 -0.07 -0.07 -0.12 -0.19\n",
      "  -0.08 -0.07 -0.07 -0.05 -0.04 -0.06 -0.08 -0.07 -0.08 -0.07 -0.06 -0.07\n",
      "  -0.13 -0.11 -0.07 -0.17 -0.04 -0.06 -0.06 -0.22 -0.29 -0.04 -0.16 -0.06\n",
      "  -0.05 -0.06 -0.06 -0.07 -0.07 -0.06 -0.26 -0.09 -0.04 -0.05 -0.05 -0.14\n",
      "  -0.38 -0.2  -0.05 -0.15 -0.05 -0.43 -0.07 -0.22 -0.06 -0.06 -0.09 -0.1\n",
      "  -0.1  -0.06  0.45 -0.11]]\n"
     ]
    }
   ],
   "source": [
    "first = np.array(train_features[:1])\n",
    "\n",
    "with np.printoptions(precision=2, suppress=True):\n",
    "  print('First example:', first)\n",
    "  print()\n",
    "  print('Normalized:', normalizer(first).numpy())"
   ]
  },
  {
   "cell_type": "code",
   "execution_count": 226,
   "metadata": {},
   "outputs": [],
   "source": [
    "def build_and_compile_model(norm):\n",
    "  model = keras.Sequential([\n",
    "      norm,\n",
    "      layers.Dense(64, activation='relu'),\n",
    "      layers.Dropout(0.2, name = \"dropout1\"),\n",
    "      layers.Dense(128, activation='relu'),\n",
    "#       layers.Dense(1)\n",
    "      layers.Dropout(0.2, name = \"dropout2\"),\n",
    "      layers.Dense(256,activation = \"relu\", name = \"DenseTwo\"),\n",
    "      layers.Dense(1)\n",
    "  ])\n",
    "\n",
    "  model.compile(loss='mean_absolute_error',\n",
    "                optimizer=tf.keras.optimizers.Adam(0.001))\n",
    "  return model"
   ]
  },
  {
   "cell_type": "code",
   "execution_count": 227,
   "metadata": {},
   "outputs": [
    {
     "ename": "ValueError",
     "evalue": "This model has not yet been built. Build the model first by calling `build()` or calling `fit()` with some data, or specify an `input_shape` argument in the first layer(s) for automatic build.",
     "output_type": "error",
     "traceback": [
      "\u001b[0;31m---------------------------------------------------------------------------\u001b[0m",
      "\u001b[0;31mValueError\u001b[0m                                Traceback (most recent call last)",
      "\u001b[0;32m<ipython-input-227-f61a7f345eb6>\u001b[0m in \u001b[0;36m<module>\u001b[0;34m\u001b[0m\n\u001b[1;32m      1\u001b[0m \u001b[0mdnn_model\u001b[0m \u001b[0;34m=\u001b[0m \u001b[0mbuild_and_compile_model\u001b[0m\u001b[0;34m(\u001b[0m\u001b[0mnormalizer\u001b[0m\u001b[0;34m)\u001b[0m\u001b[0;34m\u001b[0m\u001b[0;34m\u001b[0m\u001b[0m\n\u001b[0;32m----> 2\u001b[0;31m \u001b[0mdnn_model\u001b[0m\u001b[0;34m.\u001b[0m\u001b[0msummary\u001b[0m\u001b[0;34m(\u001b[0m\u001b[0;34m)\u001b[0m\u001b[0;34m\u001b[0m\u001b[0;34m\u001b[0m\u001b[0m\n\u001b[0m",
      "\u001b[0;32m~/miniconda3/lib/python3.8/site-packages/tensorflow/python/keras/engine/training.py\u001b[0m in \u001b[0;36msummary\u001b[0;34m(self, line_length, positions, print_fn)\u001b[0m\n\u001b[1;32m   2349\u001b[0m     \"\"\"\n\u001b[1;32m   2350\u001b[0m     \u001b[0;32mif\u001b[0m \u001b[0;32mnot\u001b[0m \u001b[0mself\u001b[0m\u001b[0;34m.\u001b[0m\u001b[0mbuilt\u001b[0m\u001b[0;34m:\u001b[0m\u001b[0;34m\u001b[0m\u001b[0;34m\u001b[0m\u001b[0m\n\u001b[0;32m-> 2351\u001b[0;31m       raise ValueError('This model has not yet been built. '\n\u001b[0m\u001b[1;32m   2352\u001b[0m                        \u001b[0;34m'Build the model first by calling `build()` or calling '\u001b[0m\u001b[0;34m\u001b[0m\u001b[0;34m\u001b[0m\u001b[0m\n\u001b[1;32m   2353\u001b[0m                        \u001b[0;34m'`fit()` with some data, or specify '\u001b[0m\u001b[0;34m\u001b[0m\u001b[0;34m\u001b[0m\u001b[0m\n",
      "\u001b[0;31mValueError\u001b[0m: This model has not yet been built. Build the model first by calling `build()` or calling `fit()` with some data, or specify an `input_shape` argument in the first layer(s) for automatic build."
     ]
    }
   ],
   "source": [
    "dnn_model = build_and_compile_model(normalizer)\n",
    "dnn_model.summary()"
   ]
  },
  {
   "cell_type": "code",
   "execution_count": 228,
   "metadata": {},
   "outputs": [
    {
     "name": "stdout",
     "output_type": "stream",
     "text": [
      "WARNING:tensorflow:Layer dense_32 is casting an input tensor from dtype float64 to the layer's dtype of float32, which is new behavior in TensorFlow 2.  The layer has dtype float32 because its dtype defaults to floatx.\n",
      "\n",
      "If you intended to run this layer in float32, you can safely ignore this warning. If in doubt, this warning is likely only an issue if you are porting a TensorFlow 1.X model to TensorFlow 2.\n",
      "\n",
      "To change all layers to have dtype float64 by default, call `tf.keras.backend.set_floatx('float64')`. To change just this layer, pass dtype='float64' to the layer constructor. If you are the author of this layer, you can disable autocasting by passing autocast=False to the base Layer constructor.\n",
      "\n",
      "CPU times: user 50.9 s, sys: 12.3 s, total: 1min 3s\n",
      "Wall time: 29.2 s\n"
     ]
    }
   ],
   "source": [
    "%%time\n",
    "history = dnn_model.fit(\n",
    "    train_features, train_labels,\n",
    "    validation_split=0.2,\n",
    "    verbose=0, epochs=100)"
   ]
  },
  {
   "cell_type": "code",
   "execution_count": 221,
   "metadata": {},
   "outputs": [],
   "source": [
    "import matplotlib.pyplot as plt\n",
    "def plot_loss(history):\n",
    "  plt.plot(history.history['loss'], label='loss')\n",
    "  plt.plot(history.history['val_loss'], label='val_loss')\n",
    "  plt.ylim([0, 100])\n",
    "  plt.xlabel('Epoch')\n",
    "  plt.ylabel('Error [MPG]')\n",
    "  plt.legend()\n",
    "  plt.grid(True)"
   ]
  },
  {
   "cell_type": "code",
   "execution_count": 222,
   "metadata": {},
   "outputs": [
    {
     "data": {
      "image/png": "[encoded data removed]",
      "text/plain": [
       "<Figure size 432x288 with 1 Axes>"
      ]
     },
     "metadata": {
      "needs_background": "light"
     },
     "output_type": "display_data"
    }
   ],
   "source": [
    "plot_loss(history)"
   ]
  },
  {
   "cell_type": "code",
   "execution_count": 223,
   "metadata": {},
   "outputs": [],
   "source": [
    "test_results = {}\n",
    "test_results['dnn_model'] = dnn_model.evaluate(test_features, test_labels, verbose=0)"
   ]
  },
  {
   "cell_type": "code",
   "execution_count": 224,
   "metadata": {},
   "outputs": [
    {
     "data": {
      "text/html": [
       "<div>\n",
       "<style scoped>\n",
       "    .dataframe tbody tr th:only-of-type {\n",
       "        vertical-align: middle;\n",
       "    }\n",
       "\n",
       "    .dataframe tbody tr th {\n",
       "        vertical-align: top;\n",
       "    }\n",
       "\n",
       "    .dataframe thead th {\n",
       "        text-align: right;\n",
       "    }\n",
       "</style>\n",
       "<table border=\"1\" class=\"dataframe\">\n",
       "  <thead>\n",
       "    <tr style=\"text-align: right;\">\n",
       "      <th></th>\n",
       "      <th>Mean absolute error [MPG]</th>\n",
       "    </tr>\n",
       "  </thead>\n",
       "  <tbody>\n",
       "    <tr>\n",
       "      <th>dnn_model</th>\n",
       "      <td>48.739372</td>\n",
       "    </tr>\n",
       "  </tbody>\n",
       "</table>\n",
       "</div>"
      ],
      "text/plain": [
       "           Mean absolute error [MPG]\n",
       "dnn_model                  48.739372"
      ]
     },
     "execution_count": 224,
     "metadata": {},
     "output_type": "execute_result"
    }
   ],
   "source": [
    "pd.DataFrame(test_results, index=['Mean absolute error [MPG]']).T"
   ]
  },
  {
   "cell_type": "code",
   "execution_count": 225,
   "metadata": {},
   "outputs": [
    {
     "name": "stdout",
     "output_type": "stream",
     "text": [
      "The model performance of training set\n",
      "RMSE is 66.41946931476637\n",
      "R2 score is 0.4900983206460068\n"
     ]
    },
    {
     "data": {
      "image/png": "[encoded data removed]",
      "text/plain": [
       "<Figure size 432x288 with 1 Axes>"
      ]
     },
     "metadata": {
      "needs_background": "light"
     },
     "output_type": "display_data"
    }
   ],
   "source": [
    "test_predictions = dnn_model.predict(test_features).flatten()\n",
    "\n",
    "from sklearn.metrics import mean_squared_error,r2_score\n",
    "# get model performance\n",
    "def scores_(Y, y_predict):\n",
    "    rmse = (np.sqrt(mean_squared_error(Y, y_predict)))\n",
    "    r2 = r2_score(Y, y_predict)\n",
    "    print('RMSE is {}'.format(rmse))\n",
    "    print('R2 score is {}'.format(r2))\n",
    "print(\"The model performance of training set\")\n",
    "scores_(test_labels,test_predictions)\n",
    "\n",
    "a = plt.axes(aspect='equal')\n",
    "plt.scatter(test_labels, test_predictions)\n",
    "plt.xlabel('True Values [MPG]')\n",
    "plt.ylabel('Predictions [MPG]')\n",
    "lims = [0, 600]\n",
    "plt.xlim(lims)\n",
    "plt.ylim(lims)\n",
    "_ = plt.plot(lims, lims)"
   ]
  },
  {
   "cell_type": "code",
   "execution_count": 209,
   "metadata": {},
   "outputs": [
    {
     "data": {
      "image/png": "[encoded data removed]",
      "text/plain": [
       "<Figure size 432x288 with 1 Axes>"
      ]
     },
     "metadata": {
      "needs_background": "light"
     },
     "output_type": "display_data"
    }
   ],
   "source": [
    "error = test_predictions - test_labels\n",
    "plt.hist(error, bins=25)\n",
    "plt.xlabel('Prediction Error [MPG]')\n",
    "_ = plt.ylabel('Count')"
   ]
  },
  {
   "cell_type": "code",
   "execution_count": null,
   "metadata": {},
   "outputs": [],
   "source": []
  }
 ],
 "metadata": {
  "kernelspec": {
   "display_name": "Python 3",
   "language": "python",
   "name": "python3"
  },
  "language_info": {
   "codemirror_mode": {
    "name": "ipython",
    "version": 3
   },
   "file_extension": ".py",
   "mimetype": "text/x-python",
   "name": "python",
   "nbconvert_exporter": "python",
   "pygments_lexer": "ipython3",
   "version": "3.8.3"
  }
 },
 "nbformat": 4,
 "nbformat_minor": 4
}
