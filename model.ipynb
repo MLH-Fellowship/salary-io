{
 "cells": [
  {
   "cell_type": "code",
   "execution_count": 18,
   "metadata": {},
   "outputs": [],
   "source": [
    "import pandas as pd\n",
    "import json"
   ]
  },
  {
   "cell_type": "code",
   "execution_count": 7,
   "metadata": {},
   "outputs": [
    {
     "data": {
      "text/html": [
       "<div>\n",
       "<style scoped>\n",
       "    .dataframe tbody tr th:only-of-type {\n",
       "        vertical-align: middle;\n",
       "    }\n",
       "\n",
       "    .dataframe tbody tr th {\n",
       "        vertical-align: top;\n",
       "    }\n",
       "\n",
       "    .dataframe thead th {\n",
       "        text-align: right;\n",
       "    }\n",
       "</style>\n",
       "<table border=\"1\" class=\"dataframe\">\n",
       "  <thead>\n",
       "    <tr style=\"text-align: right;\">\n",
       "      <th></th>\n",
       "      <th>title</th>\n",
       "      <th>totalyearlycompensation</th>\n",
       "      <th>location</th>\n",
       "      <th>yearsofexperience</th>\n",
       "    </tr>\n",
       "  </thead>\n",
       "  <tbody>\n",
       "    <tr>\n",
       "      <th>0</th>\n",
       "      <td>Product Manager</td>\n",
       "      <td>127</td>\n",
       "      <td>Redwood City, CA</td>\n",
       "      <td>1.5</td>\n",
       "    </tr>\n",
       "    <tr>\n",
       "      <th>1</th>\n",
       "      <td>Software Engineer</td>\n",
       "      <td>100</td>\n",
       "      <td>San Francisco, CA</td>\n",
       "      <td>5</td>\n",
       "    </tr>\n",
       "    <tr>\n",
       "      <th>2</th>\n",
       "      <td>Product Manager</td>\n",
       "      <td>310</td>\n",
       "      <td>Seattle, WA</td>\n",
       "      <td>8</td>\n",
       "    </tr>\n",
       "    <tr>\n",
       "      <th>3</th>\n",
       "      <td>Software Engineering Manager</td>\n",
       "      <td>200</td>\n",
       "      <td>Redmond, WA</td>\n",
       "      <td>9</td>\n",
       "    </tr>\n",
       "    <tr>\n",
       "      <th>4</th>\n",
       "      <td>Software Engineer</td>\n",
       "      <td>173</td>\n",
       "      <td>Vancouver, BC, Canada</td>\n",
       "      <td>11</td>\n",
       "    </tr>\n",
       "    <tr>\n",
       "      <th>...</th>\n",
       "      <td>...</td>\n",
       "      <td>...</td>\n",
       "      <td>...</td>\n",
       "      <td>...</td>\n",
       "    </tr>\n",
       "    <tr>\n",
       "      <th>33933</th>\n",
       "      <td>Software Engineer</td>\n",
       "      <td>195</td>\n",
       "      <td>Santa Monica, CA</td>\n",
       "      <td>3</td>\n",
       "    </tr>\n",
       "    <tr>\n",
       "      <th>33934</th>\n",
       "      <td>Hardware Engineer</td>\n",
       "      <td>151</td>\n",
       "      <td>San Diego, CA</td>\n",
       "      <td>3</td>\n",
       "    </tr>\n",
       "    <tr>\n",
       "      <th>33935</th>\n",
       "      <td>Data Scientist</td>\n",
       "      <td>161</td>\n",
       "      <td>New York, NY</td>\n",
       "      <td>4</td>\n",
       "    </tr>\n",
       "    <tr>\n",
       "      <th>33936</th>\n",
       "      <td>Product Designer</td>\n",
       "      <td>397</td>\n",
       "      <td>San Francisco, CA</td>\n",
       "      <td>7</td>\n",
       "    </tr>\n",
       "    <tr>\n",
       "      <th>33937</th>\n",
       "      <td>Software Engineer</td>\n",
       "      <td>150</td>\n",
       "      <td>Bangalore, KA, India</td>\n",
       "      <td>12</td>\n",
       "    </tr>\n",
       "  </tbody>\n",
       "</table>\n",
       "<p>33938 rows × 4 columns</p>\n",
       "</div>"
      ],
      "text/plain": [
       "                              title totalyearlycompensation  \\\n",
       "0                   Product Manager                     127   \n",
       "1                 Software Engineer                     100   \n",
       "2                   Product Manager                     310   \n",
       "3      Software Engineering Manager                     200   \n",
       "4                 Software Engineer                     173   \n",
       "...                             ...                     ...   \n",
       "33933             Software Engineer                     195   \n",
       "33934             Hardware Engineer                     151   \n",
       "33935                Data Scientist                     161   \n",
       "33936              Product Designer                     397   \n",
       "33937             Software Engineer                     150   \n",
       "\n",
       "                    location yearsofexperience  \n",
       "0           Redwood City, CA               1.5  \n",
       "1          San Francisco, CA                 5  \n",
       "2                Seattle, WA                 8  \n",
       "3                Redmond, WA                 9  \n",
       "4      Vancouver, BC, Canada                11  \n",
       "...                      ...               ...  \n",
       "33933       Santa Monica, CA                 3  \n",
       "33934          San Diego, CA                 3  \n",
       "33935           New York, NY                 4  \n",
       "33936      San Francisco, CA                 7  \n",
       "33937   Bangalore, KA, India                12  \n",
       "\n",
       "[33938 rows x 4 columns]"
      ]
     },
     "execution_count": 7,
     "metadata": {},
     "output_type": "execute_result"
    }
   ],
   "source": [
    "with open('salaryData.json') as f:\n",
    "    data = json.load(f)\n",
    "\n",
    "dataset = pd.DataFrame(data)\n",
    "\n",
    "# columns not used in model\n",
    "columns = ['timestamp', 'otherdetails', 'dmaid', 'rowNumber', \n",
    "           'yearsatcompany', 'company', 'gender', 'cityid',\n",
    "           'level', 'tag', 'bonus', 'basesalary', 'stockgrantvalue'] # TODO: consider adding these to model\n",
    "dataset.drop(columns, inplace=True, axis=1)\n",
    "dataset"
   ]
  },
  {
   "cell_type": "code",
   "execution_count": 8,
   "metadata": {},
   "outputs": [],
   "source": [
    "# filter out cities with less than 100 datapoints\n",
    "dataset_top_cities = dataset.groupby('location').filter(lambda x: len(x) >= 100)"
   ]
  },
  {
   "cell_type": "code",
   "execution_count": 102,
   "metadata": {},
   "outputs": [],
   "source": [
    "# categorical data\n",
    "# categorical_cols = ['title', 'location'] \n",
    "\n",
    "# one hot encoding\n",
    "# dataset_encoded = pd.get_dummies(dataset_top_cities, columns = categorical_cols, drop_first = True)\n",
    "# dataset_encoded"
   ]
  },
  {
   "cell_type": "code",
   "execution_count": 9,
   "metadata": {},
   "outputs": [],
   "source": [
    "# multivariate linear regression\n",
    "from sklearn.linear_model import LinearRegression\n",
    "from sklearn.model_selection import train_test_split\n",
    "from sklearn.metrics import mean_absolute_error\n",
    "from sklearn.metrics import accuracy_score\n",
    "from sklearn.preprocessing import OneHotEncoder\n",
    "\n",
    "# independent and dependent variables\n",
    "features = ['yearsofexperience', 'location', 'title']\n",
    "target = 'totalyearlycompensation'\n",
    "\n",
    "X = dataset_top_cities[features]\n",
    "Y = dataset_top_cities[target]"
   ]
  },
  {
   "cell_type": "code",
   "execution_count": 13,
   "metadata": {},
   "outputs": [],
   "source": [
    "e = OneHotEncoder(drop='first')\n",
    "\n",
    "X = e.fit_transform(X).toarray()\n",
    "\n",
    "# 80/20 split- 20% training data\n",
    "X_train, X_test, Y_train, Y_test = train_test_split( X, Y, test_size=0.2, random_state=0)"
   ]
  },
  {
   "cell_type": "code",
   "execution_count": 14,
   "metadata": {},
   "outputs": [],
   "source": [
    "# define model I am using\n",
    "model = LinearRegression()"
   ]
  },
  {
   "cell_type": "code",
   "execution_count": 15,
   "metadata": {},
   "outputs": [
    {
     "data": {
      "text/plain": [
       "LinearRegression()"
      ]
     },
     "execution_count": 15,
     "metadata": {},
     "output_type": "execute_result"
    }
   ],
   "source": [
    "# training process\n",
    "model.fit(X_train,Y_train)"
   ]
  },
  {
   "cell_type": "code",
   "execution_count": 19,
   "metadata": {},
   "outputs": [
    {
     "name": "stdout",
     "output_type": "stream",
     "text": [
      "The model performance of training set\n",
      "RMSE is 114.18625571177218\n",
      "R2 score is 0.38627999574031346\n",
      "--------------------------------------\n",
      "The model performance of testing set\n",
      "RMSE is 65635192501256.17\n",
      "R2 score is -2.2389189536977252e+23\n"
     ]
    }
   ],
   "source": []
  },
  {
   "cell_type": "code",
   "execution_count": 3,
   "metadata": {},
   "outputs": [
    {
     "ename": "NameError",
     "evalue": "name 'Y_train' is not defined",
     "output_type": "error",
     "traceback": [
      "\u001b[0;31m---------------------------------------------------------------------------\u001b[0m",
      "\u001b[0;31mNameError\u001b[0m                                 Traceback (most recent call last)",
      "\u001b[0;32m<ipython-input-3-b59d39346780>\u001b[0m in \u001b[0;36m<module>\u001b[0;34m\u001b[0m\n\u001b[1;32m      1\u001b[0m \u001b[0;31m# mean absolute value for training data\u001b[0m\u001b[0;34m\u001b[0m\u001b[0;34m\u001b[0m\u001b[0;34m\u001b[0m\u001b[0m\n\u001b[0;32m----> 2\u001b[0;31m \u001b[0mdata\u001b[0m \u001b[0;34m=\u001b[0m \u001b[0mY_train\u001b[0m\u001b[0;34m\u001b[0m\u001b[0;34m\u001b[0m\u001b[0m\n\u001b[0m\u001b[1;32m      3\u001b[0m \u001b[0mpredict\u001b[0m \u001b[0;34m=\u001b[0m \u001b[0mmodel\u001b[0m\u001b[0;34m.\u001b[0m\u001b[0mpredict\u001b[0m\u001b[0;34m(\u001b[0m\u001b[0mX_train\u001b[0m\u001b[0;34m)\u001b[0m\u001b[0;34m\u001b[0m\u001b[0;34m\u001b[0m\u001b[0m\n\u001b[1;32m      4\u001b[0m \u001b[0mtraining_error\u001b[0m \u001b[0;34m=\u001b[0m \u001b[0mmean_absolute_error\u001b[0m\u001b[0;34m(\u001b[0m\u001b[0mdata\u001b[0m\u001b[0;34m,\u001b[0m \u001b[0mpredict\u001b[0m\u001b[0;34m)\u001b[0m\u001b[0;34m\u001b[0m\u001b[0;34m\u001b[0m\u001b[0m\n",
      "\u001b[0;31mNameError\u001b[0m: name 'Y_train' is not defined"
     ]
    }
   ],
   "source": [
    "# mean absolute value for training data\n",
    "data = Y_train\n",
    "predict = model.predict(X_train)\n",
    "training_error = mean_absolute_error(data, predict)"
   ]
  },
  {
   "cell_type": "code",
   "execution_count": 154,
   "metadata": {},
   "outputs": [],
   "source": [
    "# mean absolute value for test data\n",
    "test_data = Y_test\n",
    "predict_data = model.predict(X_test)\n",
    "test_data_error = mean_absolute_error(data, predict)"
   ]
  },
  {
   "cell_type": "code",
   "execution_count": 155,
   "metadata": {},
   "outputs": [],
   "source": [
    "# we need some metric to measure the accuracy of our regression model\n",
    "from sklearn.metrics import r2_score\n",
    "\n",
    "# on training data\n",
    "true_value = Y_train\n",
    "predicted_val = model.predict(X_train)\n",
    "accuracy = r2_score(true_value, predicted_val)"
   ]
  },
  {
   "cell_type": "code",
   "execution_count": 157,
   "metadata": {},
   "outputs": [],
   "source": [
    "# on test data\n",
    "true_value2 = Y_test\n",
    "predicted_val2 = model.predict(X_test)\n",
    "accuracy2 = r2_score(true_value2, predicted_val2)"
   ]
  },
  {
   "cell_type": "code",
   "execution_count": 158,
   "metadata": {},
   "outputs": [
    {
     "name": "stdout",
     "output_type": "stream",
     "text": [
      "This model accounts for -1.8218516691429687e+20% of the training data with mean data error of 66.42\n",
      "This model accounts for 39.49% of the testing data with mean data error of 66.42\n"
     ]
    }
   ],
   "source": [
    "print('This model accounts for {}% of the training data with mean data error of {}'.format(round(accuracy2*100,2), round(training_error,2)))\n",
    "print('This model accounts for {}% of the testing data with mean data error of {}'.format(round(accuracy*100,2), round(test_data_error,2)))"
   ]
  },
  {
   "cell_type": "code",
   "execution_count": null,
   "metadata": {},
   "outputs": [],
   "source": []
  }
 ],
 "metadata": {
  "kernelspec": {
   "display_name": "Python 3",
   "language": "python",
   "name": "python3"
  },
  "language_info": {
   "codemirror_mode": {
    "name": "ipython",
    "version": 3
   },
   "file_extension": ".py",
   "mimetype": "text/x-python",
   "name": "python",
   "nbconvert_exporter": "python",
   "pygments_lexer": "ipython3",
   "version": "3.8.3"
  }
 },
 "nbformat": 4,
 "nbformat_minor": 4
}
