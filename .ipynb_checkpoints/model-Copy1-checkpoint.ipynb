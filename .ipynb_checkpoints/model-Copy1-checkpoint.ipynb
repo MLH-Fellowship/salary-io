{
 "cells": [
  {
   "cell_type": "code",
   "execution_count": 105,
   "metadata": {},
   "outputs": [],
   "source": [
    "import pandas as pd\n",
    "import numpy as np\n",
    "import seaborn as sns\n",
    "import json"
   ]
  },
  {
   "cell_type": "code",
   "execution_count": 118,
   "metadata": {},
   "outputs": [
    {
     "data": {
      "text/html": [
       "<div>\n",
       "<style scoped>\n",
       "    .dataframe tbody tr th:only-of-type {\n",
       "        vertical-align: middle;\n",
       "    }\n",
       "\n",
       "    .dataframe tbody tr th {\n",
       "        vertical-align: top;\n",
       "    }\n",
       "\n",
       "    .dataframe thead th {\n",
       "        text-align: right;\n",
       "    }\n",
       "</style>\n",
       "<table border=\"1\" class=\"dataframe\">\n",
       "  <thead>\n",
       "    <tr style=\"text-align: right;\">\n",
       "      <th></th>\n",
       "      <th>title</th>\n",
       "      <th>totalyearlycompensation</th>\n",
       "      <th>location</th>\n",
       "      <th>yearsofexperience</th>\n",
       "      <th>yearsatcompany</th>\n",
       "      <th>gender</th>\n",
       "    </tr>\n",
       "  </thead>\n",
       "  <tbody>\n",
       "    <tr>\n",
       "      <th>0</th>\n",
       "      <td>Product Manager</td>\n",
       "      <td>127</td>\n",
       "      <td>Redwood City, CA</td>\n",
       "      <td>1.5</td>\n",
       "      <td>1.5</td>\n",
       "      <td></td>\n",
       "    </tr>\n",
       "    <tr>\n",
       "      <th>1</th>\n",
       "      <td>Software Engineer</td>\n",
       "      <td>100</td>\n",
       "      <td>San Francisco, CA</td>\n",
       "      <td>5</td>\n",
       "      <td>3</td>\n",
       "      <td></td>\n",
       "    </tr>\n",
       "    <tr>\n",
       "      <th>2</th>\n",
       "      <td>Product Manager</td>\n",
       "      <td>310</td>\n",
       "      <td>Seattle, WA</td>\n",
       "      <td>8</td>\n",
       "      <td>0</td>\n",
       "      <td></td>\n",
       "    </tr>\n",
       "    <tr>\n",
       "      <th>3</th>\n",
       "      <td>Software Engineering Manager</td>\n",
       "      <td>200</td>\n",
       "      <td>Redmond, WA</td>\n",
       "      <td>9</td>\n",
       "      <td>9</td>\n",
       "      <td></td>\n",
       "    </tr>\n",
       "    <tr>\n",
       "      <th>4</th>\n",
       "      <td>Software Engineer</td>\n",
       "      <td>173</td>\n",
       "      <td>Vancouver, BC, Canada</td>\n",
       "      <td>11</td>\n",
       "      <td>1</td>\n",
       "      <td></td>\n",
       "    </tr>\n",
       "    <tr>\n",
       "      <th>...</th>\n",
       "      <td>...</td>\n",
       "      <td>...</td>\n",
       "      <td>...</td>\n",
       "      <td>...</td>\n",
       "      <td>...</td>\n",
       "      <td>...</td>\n",
       "    </tr>\n",
       "    <tr>\n",
       "      <th>31773</th>\n",
       "      <td>Software Engineer</td>\n",
       "      <td>195</td>\n",
       "      <td>Santa Monica, CA</td>\n",
       "      <td>3</td>\n",
       "      <td>1</td>\n",
       "      <td></td>\n",
       "    </tr>\n",
       "    <tr>\n",
       "      <th>31774</th>\n",
       "      <td>Hardware Engineer</td>\n",
       "      <td>151</td>\n",
       "      <td>San Diego, CA</td>\n",
       "      <td>3</td>\n",
       "      <td>3</td>\n",
       "      <td></td>\n",
       "    </tr>\n",
       "    <tr>\n",
       "      <th>31775</th>\n",
       "      <td>Data Scientist</td>\n",
       "      <td>161</td>\n",
       "      <td>New York, NY</td>\n",
       "      <td>4</td>\n",
       "      <td>2</td>\n",
       "      <td>Male</td>\n",
       "    </tr>\n",
       "    <tr>\n",
       "      <th>31776</th>\n",
       "      <td>Product Designer</td>\n",
       "      <td>397</td>\n",
       "      <td>San Francisco, CA</td>\n",
       "      <td>7</td>\n",
       "      <td>7</td>\n",
       "      <td>Female</td>\n",
       "    </tr>\n",
       "    <tr>\n",
       "      <th>31777</th>\n",
       "      <td>Software Engineer</td>\n",
       "      <td>150</td>\n",
       "      <td>Bangalore, KA, India</td>\n",
       "      <td>12</td>\n",
       "      <td>12</td>\n",
       "      <td></td>\n",
       "    </tr>\n",
       "  </tbody>\n",
       "</table>\n",
       "<p>31778 rows × 6 columns</p>\n",
       "</div>"
      ],
      "text/plain": [
       "                              title totalyearlycompensation  \\\n",
       "0                   Product Manager                     127   \n",
       "1                 Software Engineer                     100   \n",
       "2                   Product Manager                     310   \n",
       "3      Software Engineering Manager                     200   \n",
       "4                 Software Engineer                     173   \n",
       "...                             ...                     ...   \n",
       "31773             Software Engineer                     195   \n",
       "31774             Hardware Engineer                     151   \n",
       "31775                Data Scientist                     161   \n",
       "31776              Product Designer                     397   \n",
       "31777             Software Engineer                     150   \n",
       "\n",
       "                    location yearsofexperience yearsatcompany  gender  \n",
       "0           Redwood City, CA               1.5            1.5          \n",
       "1          San Francisco, CA                 5              3          \n",
       "2                Seattle, WA                 8              0          \n",
       "3                Redmond, WA                 9              9          \n",
       "4      Vancouver, BC, Canada                11              1          \n",
       "...                      ...               ...            ...     ...  \n",
       "31773       Santa Monica, CA                 3              1          \n",
       "31774          San Diego, CA                 3              3          \n",
       "31775           New York, NY                 4              2    Male  \n",
       "31776      San Francisco, CA                 7              7  Female  \n",
       "31777   Bangalore, KA, India                12             12          \n",
       "\n",
       "[31778 rows x 6 columns]"
      ]
     },
     "execution_count": 118,
     "metadata": {},
     "output_type": "execute_result"
    }
   ],
   "source": [
    "with open('salaryData.json') as f:\n",
    "    data = json.load(f)\n",
    "\n",
    "dataset = pd.DataFrame(data)\n",
    "\n",
    "# columns not used in model\n",
    "columns = ['timestamp', 'otherdetails', 'dmaid', 'rowNumber', \n",
    "            'company', 'cityid',\n",
    "           'level', 'tag', 'bonus', 'basesalary', 'stockgrantvalue'] # TODO: consider adding these to model\n",
    "dataset.drop(columns, inplace=True, axis=1)\n",
    "dataset = dataset.drop_duplicates()\n",
    "dataset.reset_index(drop=True, inplace=True)\n",
    "dataset"
   ]
  },
  {
   "cell_type": "code",
   "execution_count": 132,
   "metadata": {},
   "outputs": [
    {
     "name": "stderr",
     "output_type": "stream",
     "text": [
      "<ipython-input-132-c9c83c54cd27>:2: SettingWithCopyWarning: \n",
      "A value is trying to be set on a copy of a slice from a DataFrame.\n",
      "Try using .loc[row_indexer,col_indexer] = value instead\n",
      "\n",
      "See the caveats in the documentation: https://pandas.pydata.org/pandas-docs/stable/user_guide/indexing.html#returning-a-view-versus-a-copy\n",
      "  dataset[\"totalyearlycompensation\"] = pd.to_numeric(dataset[\"totalyearlycompensation\"])\n",
      "<ipython-input-132-c9c83c54cd27>:3: SettingWithCopyWarning: \n",
      "A value is trying to be set on a copy of a slice from a DataFrame.\n",
      "Try using .loc[row_indexer,col_indexer] = value instead\n",
      "\n",
      "See the caveats in the documentation: https://pandas.pydata.org/pandas-docs/stable/user_guide/indexing.html#returning-a-view-versus-a-copy\n",
      "  dataset[\"yearsofexperience\"] = pd.to_numeric(dataset[\"yearsofexperience\"])\n",
      "<ipython-input-132-c9c83c54cd27>:4: SettingWithCopyWarning: \n",
      "A value is trying to be set on a copy of a slice from a DataFrame.\n",
      "Try using .loc[row_indexer,col_indexer] = value instead\n",
      "\n",
      "See the caveats in the documentation: https://pandas.pydata.org/pandas-docs/stable/user_guide/indexing.html#returning-a-view-versus-a-copy\n",
      "  dataset[\"yearsatcompany\"] = pd.to_numeric(dataset[\"yearsatcompany\"])\n"
     ]
    }
   ],
   "source": [
    "dataset[\"totalyearlycompensation\"] = pd.to_numeric(dataset[\"totalyearlycompensation\"])\n",
    "dataset[\"yearsofexperience\"] = pd.to_numeric(dataset[\"yearsofexperience\"])\n",
    "dataset[\"yearsatcompany\"] = pd.to_numeric(dataset[\"yearsatcompany\"])\n",
    "# filter out rows with no gender information\n",
    "dataset = dataset[dataset.gender != \"\"]\n",
    "# get rid of outliers\n",
    "dataset = dataset[dataset[\"totalyearlycompensation\"] < dataset[\"totalyearlycompensation\"].quantile(.96)]\n",
    "# filter out cities with less than 100 datapoints\n",
    "dataset_top_cities = dataset.groupby('location').filter(lambda x: len(x) >= 50)"
   ]
  },
  {
   "cell_type": "code",
   "execution_count": 133,
   "metadata": {},
   "outputs": [],
   "source": [
    "# categorical data\n",
    "# categorical_cols = ['title', 'location'] \n",
    "\n",
    "# one hot encoding\n",
    "# dataset_encoded = pd.get_dummies(dataset_top_cities, columns = categorical_cols, drop_first = True)\n",
    "# dataset_encoded"
   ]
  },
  {
   "cell_type": "code",
   "execution_count": 134,
   "metadata": {},
   "outputs": [],
   "source": [
    "# multivariate linear regression\n",
    "from sklearn.linear_model import LinearRegression\n",
    "from sklearn.model_selection import train_test_split\n",
    "from sklearn.metrics import mean_absolute_error\n",
    "from sklearn.metrics import accuracy_score\n",
    "from sklearn.preprocessing import OneHotEncoder\n",
    "\n",
    "# independent and dependent variables\n",
    "features = ['yearsofexperience', 'location', 'title','yearsatcompany', 'gender']\n",
    "target = 'totalyearlycompensation'\n",
    "\n",
    "X = dataset_top_cities[features]\n",
    "Y = dataset_top_cities[target]"
   ]
  },
  {
   "cell_type": "code",
   "execution_count": 135,
   "metadata": {},
   "outputs": [],
   "source": [
    "# convert categorical variables to dummy variables\n",
    "X = pd.get_dummies(data=X, drop_first=True)\n",
    "# print(X)\n",
    "\n",
    "# # 80/20 split- 20% training data\n",
    "X_train, X_test, Y_train, Y_test = train_test_split( X, Y, test_size=0.2, random_state=0)"
   ]
  },
  {
   "cell_type": "code",
   "execution_count": 136,
   "metadata": {},
   "outputs": [],
   "source": [
    "# define model I am using\n",
    "model = LinearRegression()"
   ]
  },
  {
   "cell_type": "code",
   "execution_count": 137,
   "metadata": {},
   "outputs": [
    {
     "data": {
      "text/plain": [
       "LinearRegression()"
      ]
     },
     "execution_count": 137,
     "metadata": {},
     "output_type": "execute_result"
    }
   ],
   "source": [
    "# training process\n",
    "model.fit(X_train,Y_train)"
   ]
  },
  {
   "cell_type": "code",
   "execution_count": 138,
   "metadata": {},
   "outputs": [
    {
     "name": "stdout",
     "output_type": "stream",
     "text": [
      "The model performance of training set\n",
      "RMSE is 65.94887408516358\n",
      "R2 score is 0.48726547770479023\n",
      "--------------------------------------\n",
      "The model performance of testing set\n",
      "RMSE is 65.49382158594466\n",
      "R2 score is 0.48461990592523296\n"
     ]
    }
   ],
   "source": [
    "from sklearn.metrics import mean_squared_error,r2_score\n",
    "# get model performance\n",
    "def scores_(model,X,Y):\n",
    "    y_predict = model.predict(X)\n",
    "    rmse = (np.sqrt(mean_squared_error(Y, y_predict)))\n",
    "    r2 = r2_score(Y, y_predict)\n",
    "    print('RMSE is {}'.format(rmse))\n",
    "    print('R2 score is {}'.format(r2))\n",
    "print(\"The model performance of training set\")\n",
    "scores_(model,X_train,Y_train)\n",
    "print(\"--------------------------------------\")\n",
    "print(\"The model performance of testing set\")\n",
    "scores_(model,X_test,Y_test)"
   ]
  },
  {
   "cell_type": "code",
   "execution_count": 139,
   "metadata": {},
   "outputs": [
    {
     "name": "stderr",
     "output_type": "stream",
     "text": [
      "/Users/shiyuezhang/miniconda3/lib/python3.8/site-packages/seaborn/_decorators.py:36: FutureWarning: Pass the following variables as keyword args: x, y. From version 0.12, the only valid positional argument will be `data`, and passing other arguments without an explicit keyword will result in an error or misinterpretation.\n",
      "  warnings.warn(\n"
     ]
    },
    {
     "data": {
      "text/plain": [
       "<AxesSubplot:xlabel='totalyearlycompensation'>"
      ]
     },
     "execution_count": 139,
     "metadata": {},
     "output_type": "execute_result"
    },
    {
     "data": {
      "image/png": "[encoded data removed]",
      "text/plain": [
       "<Figure size 432x288 with 1 Axes>"
      ]
     },
     "metadata": {
      "needs_background": "light"
     },
     "output_type": "display_data"
    }
   ],
   "source": [
    "# compare the prediction with actual values in test dataset\n",
    "predictions = model.predict(X_test)\n",
    "sns.regplot(Y_test,predictions)"
   ]
  },
  {
   "cell_type": "code",
   "execution_count": 11,
   "metadata": {},
   "outputs": [],
   "source": [
    "# mean absolute value for training data\n",
    "data = Y_train\n",
    "predict = model.predict(X_train)\n",
    "training_error = mean_absolute_error(data, predict)"
   ]
  },
  {
   "cell_type": "code",
   "execution_count": 12,
   "metadata": {},
   "outputs": [],
   "source": [
    "# mean absolute value for test data\n",
    "test_data = Y_test\n",
    "predict_data = model.predict(X_test)\n",
    "test_data_error = mean_absolute_error(data, predict)"
   ]
  },
  {
   "cell_type": "code",
   "execution_count": 155,
   "metadata": {},
   "outputs": [],
   "source": [
    "# we need some metric to measure the accuracy of our regression model\n",
    "from sklearn.metrics import r2_score\n",
    "\n",
    "# on training data\n",
    "true_value = Y_train\n",
    "predicted_val = model.predict(X_train)\n",
    "accuracy = r2_score(true_value, predicted_val)"
   ]
  },
  {
   "cell_type": "code",
   "execution_count": 157,
   "metadata": {},
   "outputs": [],
   "source": [
    "# on test data\n",
    "true_value2 = Y_test\n",
    "predicted_val2 = model.predict(X_test)\n",
    "accuracy2 = r2_score(true_value2, predicted_val2)"
   ]
  },
  {
   "cell_type": "code",
   "execution_count": 158,
   "metadata": {},
   "outputs": [
    {
     "name": "stdout",
     "output_type": "stream",
     "text": [
      "This model accounts for -1.8218516691429687e+20% of the training data with mean data error of 66.42\n",
      "This model accounts for 39.49% of the testing data with mean data error of 66.42\n"
     ]
    }
   ],
   "source": [
    "print('This model accounts for {}% of the training data with mean data error of {}'.format(round(accuracy2*100,2), round(training_error,2)))\n",
    "print('This model accounts for {}% of the testing data with mean data error of {}'.format(round(accuracy*100,2), round(test_data_error,2)))"
   ]
  },
  {
   "cell_type": "code",
   "execution_count": null,
   "metadata": {},
   "outputs": [],
   "source": []
  }
 ],
 "metadata": {
  "kernelspec": {
   "display_name": "Python 3",
   "language": "python",
   "name": "python3"
  },
  "language_info": {
   "codemirror_mode": {
    "name": "ipython",
    "version": 3
   },
   "file_extension": ".py",
   "mimetype": "text/x-python",
   "name": "python",
   "nbconvert_exporter": "python",
   "pygments_lexer": "ipython3",
   "version": "3.8.3"
  }
 },
 "nbformat": 4,
 "nbformat_minor": 4
}
